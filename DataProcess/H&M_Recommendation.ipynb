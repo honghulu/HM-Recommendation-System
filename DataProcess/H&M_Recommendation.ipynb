{
 "cells": [
  {
   "cell_type": "code",
   "execution_count": null,
   "metadata": {
    "collapsed": true
   },
   "outputs": [],
   "source": [
    "# This Python 3 environment comes with many helpful analytics libraries installed\n",
    "# It is defined by the kaggle/python Docker image: https://github.com/kaggle/docker-python\n",
    "# For example, here's several helpful packages to load\n",
    "import operator\n",
    "\n",
    "import numpy as np # linear algebra\n",
    "import pandas as pd # data processing, CSV file I/O (e.g. pd.read_csv)\n",
    "\n",
    "# Input data files are available in the read-only \"../input/\" directory\n",
    "# For example, running this (by clicking run or pressing Shift+Enter) will list all files under the input directory\n",
    "\n",
    "transaction_df = pd.read_csv('../input/h-and-m-personalized-fashion-recommendations/transactions_train.csv')\n",
    "transaction_df.head()\n",
    "# You can write up to 20GB to the current directory (/kaggle/working/) that gets preserved as output when you create a version using \"Save & Run All\"\n",
    "# You can also write temporary files to /kaggle/temp/, but they won't be saved outside of the current session"
   ]
  },
  {
   "cell_type": "code",
   "execution_count": null,
   "metadata": {
    "pycharm": {
     "name": "#%%\n"
    }
   },
   "outputs": [],
   "source": [
    "# Function to get common articles from Users' transaction histories\n",
    "def get_common_articles(userA,userB):\n",
    "    userA_List = transaction_df[transaction_df.customer_id == userA]\n",
    "    userB_List = transaction_df[transaction_df.customer_id == userB]\n",
    "    return [article for article in userA_List['article_id'] if article in userB_List['article_id']]\n",
    "\n",
    "get_common_articles('000058a12d5b43e67d225668fa1f8d618c13dc232df0cad8ffe7ad4a1091e318','00083cda041544b2fbb0e0d2905ad17da7cf1007526fb4c73235dccbbc132280')"
   ]
  },
  {
   "cell_type": "code",
   "execution_count": null,
   "metadata": {
    "pycharm": {
     "name": "#%%\n"
    }
   },
   "outputs": [],
   "source": [
    "import numpy as np # linear algebra\n",
    "import pandas as pd # data processing, CSV file I/O (e.g. pd.read_csv)\n",
    "\n",
    "\n",
    "# articles_df = pd.read_csv(\"../input/h-and-m-personalized-fashion-recommendations/articles.csv\",header=0)\n",
    "customers_df = pd.read_csv(\"../input/h-and-m-personalized-fashion-recommendations/customers.csv\", header=0)\n",
    "# transactions_df = pd.read_csv(\"../input/h-and-m-personalized-fashion-recommendations/transactions_train.csv\",header=0)\n",
    "# # 创建评分系统：根据所有用户的购买记录统计某一段时间内的单个 item 的 popularity\n",
    "# print(transactions.columns[0])\n",
    "# transactions['t_dat'].unique()\n",
    "# \"\"\"\n",
    "# ['customer_id', 'FN', 'Active', 'club_member_status',\n",
    "#        'fashion_news_frequency', 'age', 'postal_code']\n",
    "# \"\"\"\n",
    "# club_member_status: ACTIVE PRE-CREATE LEFT CLUB\n",
    "# fashion_news_frequency: NONE Regularly Monthly None\n",
    "club_member_status_dict = {\n",
    "    'ACTIVE': 3,\n",
    "    'PRE-CREATE': 2,\n",
    "    'LEFT CLUB': 1\n",
    "}\n",
    "fashion_news_frequency_dict = {\n",
    "    'NONE': 1,\n",
    "    'Regularly': 2,\n",
    "    'Monthly': 3,\n",
    "    'None': 1\n",
    "}\n",
    "# print(customers_df['club_member_status'].unique())\n",
    "customers_ids = []\n",
    "customers_points = []\n",
    "transactions_df = transaction_df\n",
    "\n",
    "for i in range(len(customers_df['club_member_status'])):\n",
    "    status1 = customers_df['club_member_status'][i]\n",
    "    if status1 in club_member_status_dict:\n",
    "        points = club_member_status_dict[status1]\n",
    "    else:\n",
    "        points = 1\n",
    "    status2 = customers_df['fashion_news_frequency'][i]\n",
    "    if status2 in fashion_news_frequency_dict:\n",
    "        points += fashion_news_frequency_dict[status2]\n",
    "    else:\n",
    "        points += 1\n",
    "    customers_ids.append(customers_df['customer_id'][i])\n",
    "    customers_points.append(points)\n",
    "\n",
    "temp_df = pd.DataFrame(list(zip(customers_ids, customers_points)), columns=['customer_id', 'weight'])\n",
    "# transactions_df = transactions_df.merge(temp_df, on='customer_id')\n",
    "\n",
    "# transactions_df.to_csv('transactions_weighted.csv')\n",
    "transactions_weighted = transactions_df.merge(temp_df, on='customer_id')"
   ]
  },
  {
   "cell_type": "code",
   "execution_count": null,
   "metadata": {
    "pycharm": {
     "name": "#%%\n"
    }
   },
   "outputs": [],
   "source": [
    "# Find the same articles in users' transaction_rating table;\n",
    "def get_reviews(userA,userB):\n",
    "    common_articles = get_common_articles(userA,userB)\n",
    "    return [(transactions_weighted[userA][article], transactions_weighted[userB][article]) for article in common_articles]"
   ]
  },
  {
   "cell_type": "code",
   "execution_count": null,
   "metadata": {
    "pycharm": {
     "name": "#%%\n"
    }
   },
   "outputs": [],
   "source": [
    "# Function to get Euclidean Distance b/w 2 points\n",
    "import math\n",
    "def euclidean_distance(points):\n",
    "    squared_diffs = [(point[0] - point[1]) ** 2 for point in points]\n",
    "    summed_squared_diffs = sum(squared_diffs)\n",
    "    distance = math.sqrt(summed_squared_diffs)\n",
    "    return distance"
   ]
  },
  {
   "cell_type": "code",
   "execution_count": null,
   "metadata": {
    "pycharm": {
     "name": "#%%\n"
    }
   },
   "outputs": [],
   "source": [
    "# Function to  calculate similarity more similar less the distance and vice versa\n",
    "# Added 1 for if highly similar can make the distance zero and give NotDefined Error\n",
    "def similarity(reviews):\n",
    "    return 1/ (1 + euclidean_distance(reviews))"
   ]
  },
  {
   "cell_type": "code",
   "execution_count": null,
   "metadata": {
    "pycharm": {
     "name": "#%%\n"
    }
   },
   "outputs": [],
   "source": [
    "# get similarity via two users' transactions behavior;\n",
    "def get_transaction_similarity(userA, userB):\n",
    "    reviews = get_reviews(userA,userB)\n",
    "    return similarity(reviews)"
   ]
  },
  {
   "cell_type": "code",
   "execution_count": null,
   "metadata": {
    "pycharm": {
     "name": "#%%\n"
    }
   },
   "outputs": [],
   "source": [
    "import operator\n",
    "# Function to give recommendation to users based on their reviews.\n",
    "def recommend_articles(user, num_suggestions):\n",
    "    review_data = transaction_df[transaction_df.customer_id == user]\n",
    "    similarity_scores = [(get_transaction_similarity(user, other), other) for other in review_data if other != user]\n",
    "\n",
    "    similarity_scores.sort()\n",
    "    similarity_scores.reverse()\n",
    "    similarity_scores = similarity_scores[0:num_suggestions]\n",
    "\n",
    "\n",
    "    recommendations = {}\n",
    "\n",
    "    for similarity, other in similarity_scores:\n",
    "        reviewed = review_data[other]\n",
    "\n",
    "        for movie in reviewed:\n",
    "            if movie not in review_data[user]:\n",
    "                weight = similarity * reviewed[movie]\n",
    "\n",
    "                if movie in recommendations:\n",
    "                    sim, weights = recommendations[movie]\n",
    "                    recommendations[movie] = (sim + similarity, weights + [weight])\n",
    "                else:\n",
    "                    recommendations[movie] = (similarity, [weight])\n",
    "\n",
    "    for recommendation in recommendations:\n",
    "        similarity, movie = recommendations[recommendation]\n",
    "        recommendations[recommendation] = sum(movie) / similarity\n",
    "\n",
    "    sorted_recommendations = sorted(recommendations.items(), key=operator.itemgetter(1), reverse=True)\n",
    "    print(\"get recommendations\")\n",
    "    return sorted_recommendations"
   ]
  },
  {
   "cell_type": "code",
   "execution_count": null,
   "metadata": {
    "pycharm": {
     "name": "#%%\n"
    }
   },
   "outputs": [],
   "source": [
    "recommend_movies('00083cda041544b2fbb0e0d2905ad17da7cf1007526fb4c73235dccbbc132280',4)\n"
   ]
  },
  {
   "cell_type": "code",
   "execution_count": null,
   "metadata": {
    "pycharm": {
     "name": "#%%\n"
    }
   },
   "outputs": [],
   "source": [
    "predictions = []\n",
    "customer_ids = []\n",
    "customer = customers_df['customer_id']\n",
    "for id in customer:\n",
    "    try:\n",
    "        recommendations = recommend_articles(id, 12)\n",
    "    except:\n",
    "        recommendations = ['0']\n",
    "    predictions.append(recommendations)\n",
    "    customer_ids.append(id)\n",
    "results_df = pd.DataFrame(list(zip(customer_ids, predictions)), columns=['customer_id', 'prediction'])\n",
    "results_df.to_csv('prediction_results.csv')"
   ]
  },
  {
   "cell_type": "code",
   "execution_count": null,
   "outputs": [],
   "source": [
    "# Find Most Popular Articles;\n",
    "transaction_df = transaction_df[transaction_df.t_dat > '2020-09-07']\n",
    "\n",
    "# What items do each customers buy the most\n",
    "cp = transaction_df.groupby([\"customer_id\", \"article_id\"])[[\"article_id\"]].count()\n",
    "cp.columns = [\"purchase_count\"]\n",
    "cp = cp.reset_index()\n",
    "\n",
    "cp = cp.sort_values([\"customer_id\", \"purchase_count\"], ascending=False)\n",
    "cp = cp.groupby(\"customer_id\").head(10)\n",
    "cp = cp.groupby(\"customer_id\")[\"article_id\"].apply(list)\n",
    "\n",
    "transaction_df['article_id'].value_counts()[:12]\n",
    "\n",
    "pp = list(transaction_df['article_id'].value_counts().index[:12])"
   ],
   "metadata": {
    "collapsed": false,
    "pycharm": {
     "name": "#%%\n"
    }
   }
  },
  {
   "cell_type": "code",
   "execution_count": null,
   "outputs": [],
   "source": [
    "# Submission\n",
    "pp = ['0909370001', '0924243001', '0918522001', '0865799006', '0751471001', '0448509014', '0762846027', '0918292001', '0923758001', '0924243002', '0915529003', '0850917001']\n",
    "submission_df = pd.read_csv('data/sample_submission.csv')\n",
    "submission_df.head()\n",
    "\n",
    "submission_df[\"prediction\"] = submission_df[\"customer_id\"].map(cp)\n",
    "submission_df[\"prediction\"] = submission_df[\"prediction\"].apply(lambda x: x if isinstance(x, list) else [])\n",
    "\n",
    "submission_df[\"prediction\"] = submission_df[\"prediction\"].apply(lambda x: x[:12] + pp[:12-len(x)])\n",
    "submission_df[\"prediction\"] = submission_df[\"prediction\"].apply(lambda x: \" \".join(x))\n",
    "submission_df.to_csv('simple_submission.csv', index=False)"
   ],
   "metadata": {
    "collapsed": false,
    "pycharm": {
     "name": "#%%\n"
    }
   }
  }
 ],
 "metadata": {
  "kernelspec": {
   "display_name": "Python 3 (ipykernel)",
   "language": "python",
   "name": "python3"
  },
  "language_info": {
   "codemirror_mode": {
    "name": "ipython",
    "version": 3
   },
   "file_extension": ".py",
   "mimetype": "text/x-python",
   "name": "python",
   "nbconvert_exporter": "python",
   "pygments_lexer": "ipython3",
   "version": "3.9.0"
  }
 },
 "nbformat": 4,
 "nbformat_minor": 1
}